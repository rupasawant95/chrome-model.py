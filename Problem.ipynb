{
  "nbformat": 4,
  "nbformat_minor": 0,
  "metadata": {
    "colab": {
      "name": "Problem.ipynb",
      "provenance": [],
      "collapsed_sections": [],
      "mount_file_id": "1z9Pd4fyILvWRjJXM2JK8LWhZ3s1cIx4p",
      "authorship_tag": "ABX9TyMl6JCHsejk1zwSUlZM0Pwb",
      "include_colab_link": true
    },
    "kernelspec": {
      "name": "python3",
      "display_name": "Python 3"
    },
    "language_info": {
      "name": "python"
    }
  },
  "cells": [
    {
      "cell_type": "markdown",
      "metadata": {
        "id": "view-in-github",
        "colab_type": "text"
      },
      "source": [
        "<a href=\"https://colab.research.google.com/github/rupasawant95/chrome-model.py/blob/main/Problem.ipynb\" target=\"_parent\"><img src=\"https://colab.research.google.com/assets/colab-badge.svg\" alt=\"Open In Colab\"/></a>"
      ]
    },
    {
      "cell_type": "markdown",
      "source": [
        "##**Problem Statement :**"
      ],
      "metadata": {
        "id": "lsebTx4Si_FX"
      }
    },
    {
      "cell_type": "markdown",
      "source": [
        "**There are times when a user writes Good, Nice App or any other positive text, in the review and gives 1-star rating. Your goal is to identify the reviews where the semantics of review text does not match rating.**"
      ],
      "metadata": {
        "id": "HzmBuJIWjKf8"
      }
    },
    {
      "cell_type": "code",
      "execution_count": null,
      "metadata": {
        "colab": {
          "base_uri": "https://localhost:8080/"
        },
        "id": "E5iwg7fofAuQ",
        "outputId": "02e055f9-ef30-4d57-b62f-145f6cae514c"
      },
      "outputs": [
        {
          "output_type": "stream",
          "name": "stderr",
          "text": [
            "[nltk_data] Downloading package stopwords to /root/nltk_data...\n",
            "[nltk_data]   Unzipping corpora/stopwords.zip.\n"
          ]
        },
        {
          "output_type": "execute_result",
          "data": {
            "text/plain": [
              "True"
            ]
          },
          "metadata": {},
          "execution_count": 1
        }
      ],
      "source": [
        "#importing the libraries\n",
        "import pandas as pd\n",
        "import numpy as np\n",
        "import nltk \n",
        "nltk.download('stopwords')"
      ]
    },
    {
      "cell_type": "markdown",
      "source": [
        "##**Mount google drive**"
      ],
      "metadata": {
        "id": "u3-SsO34jpJP"
      }
    },
    {
      "cell_type": "code",
      "source": [
        "#Mounting Drive\n",
        "from google.colab import drive\n",
        "drive.mount('/content/drive')"
      ],
      "metadata": {
        "id": "-5eAvC5MkUIw"
      },
      "execution_count": null,
      "outputs": []
    },
    {
      "cell_type": "code",
      "source": [
        "#Read the dataset\n",
        "df = pd.read_csv(\"/content/drive/MyDrive/chrome/chrome_reviews.csv\")"
      ],
      "metadata": {
        "id": "3V-ZrjQai8gG"
      },
      "execution_count": null,
      "outputs": []
    },
    {
      "cell_type": "code",
      "source": [
        "df.head(5)"
      ],
      "metadata": {
        "colab": {
          "base_uri": "https://localhost:8080/",
          "height": 206
        },
        "id": "UIvlQrsCll1j",
        "outputId": "43819360-dab9-41a4-eaf1-6a3551264179"
      },
      "execution_count": null,
      "outputs": [
        {
          "output_type": "execute_result",
          "data": {
            "text/plain": [
              "     ID                                         Review URL  \\\n",
              "0  3886  https://play.google.com/store/apps/details?id=...   \n",
              "1  3887  https://play.google.com/store/apps/details?id=...   \n",
              "2  3888  https://play.google.com/store/apps/details?id=...   \n",
              "3  3889  https://play.google.com/store/apps/details?id=...   \n",
              "4  3890  https://play.google.com/store/apps/details?id=...   \n",
              "\n",
              "                                             Text  Star  Thumbs Up  \\\n",
              "0                      This is very helpfull aap.     5          0   \n",
              "1                                            Good     3          2   \n",
              "2  Not able to update. Neither able to uninstall.     1          0   \n",
              "3                                        Nice app     4          0   \n",
              "4                               Many unwanted ads     1          0   \n",
              "\n",
              "          User Name Developer Reply        Version Review Date  \\\n",
              "0  INDIAN Knowledge             NaN  83.0.4103.106  2020-12-19   \n",
              "1  Ijeoma Happiness             NaN  85.0.4183.127  2020-12-19   \n",
              "2  Priti D BtCFs-29             NaN  85.0.4183.127  2020-12-19   \n",
              "3        Ajeet Raja             NaN  77.0.3865.116  2020-12-19   \n",
              "4           Rams Mp             NaN   87.0.4280.66  2020-12-19   \n",
              "\n",
              "               App ID  \n",
              "0  com.android.chrome  \n",
              "1  com.android.chrome  \n",
              "2  com.android.chrome  \n",
              "3  com.android.chrome  \n",
              "4  com.android.chrome  "
            ],
            "text/html": [
              "\n",
              "  <div id=\"df-82b269b7-7717-4b00-b500-ef9c8c753754\">\n",
              "    <div class=\"colab-df-container\">\n",
              "      <div>\n",
              "<style scoped>\n",
              "    .dataframe tbody tr th:only-of-type {\n",
              "        vertical-align: middle;\n",
              "    }\n",
              "\n",
              "    .dataframe tbody tr th {\n",
              "        vertical-align: top;\n",
              "    }\n",
              "\n",
              "    .dataframe thead th {\n",
              "        text-align: right;\n",
              "    }\n",
              "</style>\n",
              "<table border=\"1\" class=\"dataframe\">\n",
              "  <thead>\n",
              "    <tr style=\"text-align: right;\">\n",
              "      <th></th>\n",
              "      <th>ID</th>\n",
              "      <th>Review URL</th>\n",
              "      <th>Text</th>\n",
              "      <th>Star</th>\n",
              "      <th>Thumbs Up</th>\n",
              "      <th>User Name</th>\n",
              "      <th>Developer Reply</th>\n",
              "      <th>Version</th>\n",
              "      <th>Review Date</th>\n",
              "      <th>App ID</th>\n",
              "    </tr>\n",
              "  </thead>\n",
              "  <tbody>\n",
              "    <tr>\n",
              "      <th>0</th>\n",
              "      <td>3886</td>\n",
              "      <td>https://play.google.com/store/apps/details?id=...</td>\n",
              "      <td>This is very helpfull aap.</td>\n",
              "      <td>5</td>\n",
              "      <td>0</td>\n",
              "      <td>INDIAN Knowledge</td>\n",
              "      <td>NaN</td>\n",
              "      <td>83.0.4103.106</td>\n",
              "      <td>2020-12-19</td>\n",
              "      <td>com.android.chrome</td>\n",
              "    </tr>\n",
              "    <tr>\n",
              "      <th>1</th>\n",
              "      <td>3887</td>\n",
              "      <td>https://play.google.com/store/apps/details?id=...</td>\n",
              "      <td>Good</td>\n",
              "      <td>3</td>\n",
              "      <td>2</td>\n",
              "      <td>Ijeoma Happiness</td>\n",
              "      <td>NaN</td>\n",
              "      <td>85.0.4183.127</td>\n",
              "      <td>2020-12-19</td>\n",
              "      <td>com.android.chrome</td>\n",
              "    </tr>\n",
              "    <tr>\n",
              "      <th>2</th>\n",
              "      <td>3888</td>\n",
              "      <td>https://play.google.com/store/apps/details?id=...</td>\n",
              "      <td>Not able to update. Neither able to uninstall.</td>\n",
              "      <td>1</td>\n",
              "      <td>0</td>\n",
              "      <td>Priti D BtCFs-29</td>\n",
              "      <td>NaN</td>\n",
              "      <td>85.0.4183.127</td>\n",
              "      <td>2020-12-19</td>\n",
              "      <td>com.android.chrome</td>\n",
              "    </tr>\n",
              "    <tr>\n",
              "      <th>3</th>\n",
              "      <td>3889</td>\n",
              "      <td>https://play.google.com/store/apps/details?id=...</td>\n",
              "      <td>Nice app</td>\n",
              "      <td>4</td>\n",
              "      <td>0</td>\n",
              "      <td>Ajeet Raja</td>\n",
              "      <td>NaN</td>\n",
              "      <td>77.0.3865.116</td>\n",
              "      <td>2020-12-19</td>\n",
              "      <td>com.android.chrome</td>\n",
              "    </tr>\n",
              "    <tr>\n",
              "      <th>4</th>\n",
              "      <td>3890</td>\n",
              "      <td>https://play.google.com/store/apps/details?id=...</td>\n",
              "      <td>Many unwanted ads</td>\n",
              "      <td>1</td>\n",
              "      <td>0</td>\n",
              "      <td>Rams Mp</td>\n",
              "      <td>NaN</td>\n",
              "      <td>87.0.4280.66</td>\n",
              "      <td>2020-12-19</td>\n",
              "      <td>com.android.chrome</td>\n",
              "    </tr>\n",
              "  </tbody>\n",
              "</table>\n",
              "</div>\n",
              "      <button class=\"colab-df-convert\" onclick=\"convertToInteractive('df-82b269b7-7717-4b00-b500-ef9c8c753754')\"\n",
              "              title=\"Convert this dataframe to an interactive table.\"\n",
              "              style=\"display:none;\">\n",
              "        \n",
              "  <svg xmlns=\"http://www.w3.org/2000/svg\" height=\"24px\"viewBox=\"0 0 24 24\"\n",
              "       width=\"24px\">\n",
              "    <path d=\"M0 0h24v24H0V0z\" fill=\"none\"/>\n",
              "    <path d=\"M18.56 5.44l.94 2.06.94-2.06 2.06-.94-2.06-.94-.94-2.06-.94 2.06-2.06.94zm-11 1L8.5 8.5l.94-2.06 2.06-.94-2.06-.94L8.5 2.5l-.94 2.06-2.06.94zm10 10l.94 2.06.94-2.06 2.06-.94-2.06-.94-.94-2.06-.94 2.06-2.06.94z\"/><path d=\"M17.41 7.96l-1.37-1.37c-.4-.4-.92-.59-1.43-.59-.52 0-1.04.2-1.43.59L10.3 9.45l-7.72 7.72c-.78.78-.78 2.05 0 2.83L4 21.41c.39.39.9.59 1.41.59.51 0 1.02-.2 1.41-.59l7.78-7.78 2.81-2.81c.8-.78.8-2.07 0-2.86zM5.41 20L4 18.59l7.72-7.72 1.47 1.35L5.41 20z\"/>\n",
              "  </svg>\n",
              "      </button>\n",
              "      \n",
              "  <style>\n",
              "    .colab-df-container {\n",
              "      display:flex;\n",
              "      flex-wrap:wrap;\n",
              "      gap: 12px;\n",
              "    }\n",
              "\n",
              "    .colab-df-convert {\n",
              "      background-color: #E8F0FE;\n",
              "      border: none;\n",
              "      border-radius: 50%;\n",
              "      cursor: pointer;\n",
              "      display: none;\n",
              "      fill: #1967D2;\n",
              "      height: 32px;\n",
              "      padding: 0 0 0 0;\n",
              "      width: 32px;\n",
              "    }\n",
              "\n",
              "    .colab-df-convert:hover {\n",
              "      background-color: #E2EBFA;\n",
              "      box-shadow: 0px 1px 2px rgba(60, 64, 67, 0.3), 0px 1px 3px 1px rgba(60, 64, 67, 0.15);\n",
              "      fill: #174EA6;\n",
              "    }\n",
              "\n",
              "    [theme=dark] .colab-df-convert {\n",
              "      background-color: #3B4455;\n",
              "      fill: #D2E3FC;\n",
              "    }\n",
              "\n",
              "    [theme=dark] .colab-df-convert:hover {\n",
              "      background-color: #434B5C;\n",
              "      box-shadow: 0px 1px 3px 1px rgba(0, 0, 0, 0.15);\n",
              "      filter: drop-shadow(0px 1px 2px rgba(0, 0, 0, 0.3));\n",
              "      fill: #FFFFFF;\n",
              "    }\n",
              "  </style>\n",
              "\n",
              "      <script>\n",
              "        const buttonEl =\n",
              "          document.querySelector('#df-82b269b7-7717-4b00-b500-ef9c8c753754 button.colab-df-convert');\n",
              "        buttonEl.style.display =\n",
              "          google.colab.kernel.accessAllowed ? 'block' : 'none';\n",
              "\n",
              "        async function convertToInteractive(key) {\n",
              "          const element = document.querySelector('#df-82b269b7-7717-4b00-b500-ef9c8c753754');\n",
              "          const dataTable =\n",
              "            await google.colab.kernel.invokeFunction('convertToInteractive',\n",
              "                                                     [key], {});\n",
              "          if (!dataTable) return;\n",
              "\n",
              "          const docLinkHtml = 'Like what you see? Visit the ' +\n",
              "            '<a target=\"_blank\" href=https://colab.research.google.com/notebooks/data_table.ipynb>data table notebook</a>'\n",
              "            + ' to learn more about interactive tables.';\n",
              "          element.innerHTML = '';\n",
              "          dataTable['output_type'] = 'display_data';\n",
              "          await google.colab.output.renderOutput(dataTable, element);\n",
              "          const docLink = document.createElement('div');\n",
              "          docLink.innerHTML = docLinkHtml;\n",
              "          element.appendChild(docLink);\n",
              "        }\n",
              "      </script>\n",
              "    </div>\n",
              "  </div>\n",
              "  "
            ]
          },
          "metadata": {},
          "execution_count": 41
        }
      ]
    },
    {
      "cell_type": "code",
      "source": [
        "df_1=df[['ID','Text','Star']]\n",
        "df_1.head(3)"
      ],
      "metadata": {
        "colab": {
          "base_uri": "https://localhost:8080/",
          "height": 143
        },
        "id": "7xWcb0h4i8jt",
        "outputId": "c8707dc7-aa5c-4c7f-f65d-e4990a759bd3"
      },
      "execution_count": null,
      "outputs": [
        {
          "output_type": "execute_result",
          "data": {
            "text/plain": [
              "     ID                                            Text  Star\n",
              "0  3886                      This is very helpfull aap.     5\n",
              "1  3887                                            Good     3\n",
              "2  3888  Not able to update. Neither able to uninstall.     1"
            ],
            "text/html": [
              "\n",
              "  <div id=\"df-206b935e-6ce0-4b43-8c92-edfe8771d500\">\n",
              "    <div class=\"colab-df-container\">\n",
              "      <div>\n",
              "<style scoped>\n",
              "    .dataframe tbody tr th:only-of-type {\n",
              "        vertical-align: middle;\n",
              "    }\n",
              "\n",
              "    .dataframe tbody tr th {\n",
              "        vertical-align: top;\n",
              "    }\n",
              "\n",
              "    .dataframe thead th {\n",
              "        text-align: right;\n",
              "    }\n",
              "</style>\n",
              "<table border=\"1\" class=\"dataframe\">\n",
              "  <thead>\n",
              "    <tr style=\"text-align: right;\">\n",
              "      <th></th>\n",
              "      <th>ID</th>\n",
              "      <th>Text</th>\n",
              "      <th>Star</th>\n",
              "    </tr>\n",
              "  </thead>\n",
              "  <tbody>\n",
              "    <tr>\n",
              "      <th>0</th>\n",
              "      <td>3886</td>\n",
              "      <td>This is very helpfull aap.</td>\n",
              "      <td>5</td>\n",
              "    </tr>\n",
              "    <tr>\n",
              "      <th>1</th>\n",
              "      <td>3887</td>\n",
              "      <td>Good</td>\n",
              "      <td>3</td>\n",
              "    </tr>\n",
              "    <tr>\n",
              "      <th>2</th>\n",
              "      <td>3888</td>\n",
              "      <td>Not able to update. Neither able to uninstall.</td>\n",
              "      <td>1</td>\n",
              "    </tr>\n",
              "  </tbody>\n",
              "</table>\n",
              "</div>\n",
              "      <button class=\"colab-df-convert\" onclick=\"convertToInteractive('df-206b935e-6ce0-4b43-8c92-edfe8771d500')\"\n",
              "              title=\"Convert this dataframe to an interactive table.\"\n",
              "              style=\"display:none;\">\n",
              "        \n",
              "  <svg xmlns=\"http://www.w3.org/2000/svg\" height=\"24px\"viewBox=\"0 0 24 24\"\n",
              "       width=\"24px\">\n",
              "    <path d=\"M0 0h24v24H0V0z\" fill=\"none\"/>\n",
              "    <path d=\"M18.56 5.44l.94 2.06.94-2.06 2.06-.94-2.06-.94-.94-2.06-.94 2.06-2.06.94zm-11 1L8.5 8.5l.94-2.06 2.06-.94-2.06-.94L8.5 2.5l-.94 2.06-2.06.94zm10 10l.94 2.06.94-2.06 2.06-.94-2.06-.94-.94-2.06-.94 2.06-2.06.94z\"/><path d=\"M17.41 7.96l-1.37-1.37c-.4-.4-.92-.59-1.43-.59-.52 0-1.04.2-1.43.59L10.3 9.45l-7.72 7.72c-.78.78-.78 2.05 0 2.83L4 21.41c.39.39.9.59 1.41.59.51 0 1.02-.2 1.41-.59l7.78-7.78 2.81-2.81c.8-.78.8-2.07 0-2.86zM5.41 20L4 18.59l7.72-7.72 1.47 1.35L5.41 20z\"/>\n",
              "  </svg>\n",
              "      </button>\n",
              "      \n",
              "  <style>\n",
              "    .colab-df-container {\n",
              "      display:flex;\n",
              "      flex-wrap:wrap;\n",
              "      gap: 12px;\n",
              "    }\n",
              "\n",
              "    .colab-df-convert {\n",
              "      background-color: #E8F0FE;\n",
              "      border: none;\n",
              "      border-radius: 50%;\n",
              "      cursor: pointer;\n",
              "      display: none;\n",
              "      fill: #1967D2;\n",
              "      height: 32px;\n",
              "      padding: 0 0 0 0;\n",
              "      width: 32px;\n",
              "    }\n",
              "\n",
              "    .colab-df-convert:hover {\n",
              "      background-color: #E2EBFA;\n",
              "      box-shadow: 0px 1px 2px rgba(60, 64, 67, 0.3), 0px 1px 3px 1px rgba(60, 64, 67, 0.15);\n",
              "      fill: #174EA6;\n",
              "    }\n",
              "\n",
              "    [theme=dark] .colab-df-convert {\n",
              "      background-color: #3B4455;\n",
              "      fill: #D2E3FC;\n",
              "    }\n",
              "\n",
              "    [theme=dark] .colab-df-convert:hover {\n",
              "      background-color: #434B5C;\n",
              "      box-shadow: 0px 1px 3px 1px rgba(0, 0, 0, 0.15);\n",
              "      filter: drop-shadow(0px 1px 2px rgba(0, 0, 0, 0.3));\n",
              "      fill: #FFFFFF;\n",
              "    }\n",
              "  </style>\n",
              "\n",
              "      <script>\n",
              "        const buttonEl =\n",
              "          document.querySelector('#df-206b935e-6ce0-4b43-8c92-edfe8771d500 button.colab-df-convert');\n",
              "        buttonEl.style.display =\n",
              "          google.colab.kernel.accessAllowed ? 'block' : 'none';\n",
              "\n",
              "        async function convertToInteractive(key) {\n",
              "          const element = document.querySelector('#df-206b935e-6ce0-4b43-8c92-edfe8771d500');\n",
              "          const dataTable =\n",
              "            await google.colab.kernel.invokeFunction('convertToInteractive',\n",
              "                                                     [key], {});\n",
              "          if (!dataTable) return;\n",
              "\n",
              "          const docLinkHtml = 'Like what you see? Visit the ' +\n",
              "            '<a target=\"_blank\" href=https://colab.research.google.com/notebooks/data_table.ipynb>data table notebook</a>'\n",
              "            + ' to learn more about interactive tables.';\n",
              "          element.innerHTML = '';\n",
              "          dataTable['output_type'] = 'display_data';\n",
              "          await google.colab.output.renderOutput(dataTable, element);\n",
              "          const docLink = document.createElement('div');\n",
              "          docLink.innerHTML = docLinkHtml;\n",
              "          element.appendChild(docLink);\n",
              "        }\n",
              "      </script>\n",
              "    </div>\n",
              "  </div>\n",
              "  "
            ]
          },
          "metadata": {},
          "execution_count": 42
        }
      ]
    },
    {
      "cell_type": "markdown",
      "source": [
        "**Creating another feature called \"Result\" to classify reviews as positive and negetive based on rating. If rating is >= 2 then it is \"positive\" represented by 1 else \"negative\" or not represented by 0.**"
      ],
      "metadata": {
        "id": "lZ6qN_vumCU9"
      }
    },
    {
      "cell_type": "code",
      "source": [
        "df_1['Result'] = df_1['Star'].apply(lambda x: 1 if x >= 2 else 0)\n",
        "df_1.head()"
      ],
      "metadata": {
        "colab": {
          "base_uri": "https://localhost:8080/",
          "height": 313
        },
        "id": "WAncMpo1i8m9",
        "outputId": "62fe74bc-4169-4f9e-a308-bee8ef6acf02"
      },
      "execution_count": null,
      "outputs": [
        {
          "output_type": "stream",
          "name": "stderr",
          "text": [
            "/usr/local/lib/python3.7/dist-packages/ipykernel_launcher.py:1: SettingWithCopyWarning: \n",
            "A value is trying to be set on a copy of a slice from a DataFrame.\n",
            "Try using .loc[row_indexer,col_indexer] = value instead\n",
            "\n",
            "See the caveats in the documentation: https://pandas.pydata.org/pandas-docs/stable/user_guide/indexing.html#returning-a-view-versus-a-copy\n",
            "  \"\"\"Entry point for launching an IPython kernel.\n"
          ]
        },
        {
          "output_type": "execute_result",
          "data": {
            "text/plain": [
              "     ID                                            Text  Star  Result\n",
              "0  3886                      This is very helpfull aap.     5       1\n",
              "1  3887                                            Good     3       1\n",
              "2  3888  Not able to update. Neither able to uninstall.     1       0\n",
              "3  3889                                        Nice app     4       1\n",
              "4  3890                               Many unwanted ads     1       0"
            ],
            "text/html": [
              "\n",
              "  <div id=\"df-01583295-5d05-4d2b-b646-07ac31b2acd0\">\n",
              "    <div class=\"colab-df-container\">\n",
              "      <div>\n",
              "<style scoped>\n",
              "    .dataframe tbody tr th:only-of-type {\n",
              "        vertical-align: middle;\n",
              "    }\n",
              "\n",
              "    .dataframe tbody tr th {\n",
              "        vertical-align: top;\n",
              "    }\n",
              "\n",
              "    .dataframe thead th {\n",
              "        text-align: right;\n",
              "    }\n",
              "</style>\n",
              "<table border=\"1\" class=\"dataframe\">\n",
              "  <thead>\n",
              "    <tr style=\"text-align: right;\">\n",
              "      <th></th>\n",
              "      <th>ID</th>\n",
              "      <th>Text</th>\n",
              "      <th>Star</th>\n",
              "      <th>Result</th>\n",
              "    </tr>\n",
              "  </thead>\n",
              "  <tbody>\n",
              "    <tr>\n",
              "      <th>0</th>\n",
              "      <td>3886</td>\n",
              "      <td>This is very helpfull aap.</td>\n",
              "      <td>5</td>\n",
              "      <td>1</td>\n",
              "    </tr>\n",
              "    <tr>\n",
              "      <th>1</th>\n",
              "      <td>3887</td>\n",
              "      <td>Good</td>\n",
              "      <td>3</td>\n",
              "      <td>1</td>\n",
              "    </tr>\n",
              "    <tr>\n",
              "      <th>2</th>\n",
              "      <td>3888</td>\n",
              "      <td>Not able to update. Neither able to uninstall.</td>\n",
              "      <td>1</td>\n",
              "      <td>0</td>\n",
              "    </tr>\n",
              "    <tr>\n",
              "      <th>3</th>\n",
              "      <td>3889</td>\n",
              "      <td>Nice app</td>\n",
              "      <td>4</td>\n",
              "      <td>1</td>\n",
              "    </tr>\n",
              "    <tr>\n",
              "      <th>4</th>\n",
              "      <td>3890</td>\n",
              "      <td>Many unwanted ads</td>\n",
              "      <td>1</td>\n",
              "      <td>0</td>\n",
              "    </tr>\n",
              "  </tbody>\n",
              "</table>\n",
              "</div>\n",
              "      <button class=\"colab-df-convert\" onclick=\"convertToInteractive('df-01583295-5d05-4d2b-b646-07ac31b2acd0')\"\n",
              "              title=\"Convert this dataframe to an interactive table.\"\n",
              "              style=\"display:none;\">\n",
              "        \n",
              "  <svg xmlns=\"http://www.w3.org/2000/svg\" height=\"24px\"viewBox=\"0 0 24 24\"\n",
              "       width=\"24px\">\n",
              "    <path d=\"M0 0h24v24H0V0z\" fill=\"none\"/>\n",
              "    <path d=\"M18.56 5.44l.94 2.06.94-2.06 2.06-.94-2.06-.94-.94-2.06-.94 2.06-2.06.94zm-11 1L8.5 8.5l.94-2.06 2.06-.94-2.06-.94L8.5 2.5l-.94 2.06-2.06.94zm10 10l.94 2.06.94-2.06 2.06-.94-2.06-.94-.94-2.06-.94 2.06-2.06.94z\"/><path d=\"M17.41 7.96l-1.37-1.37c-.4-.4-.92-.59-1.43-.59-.52 0-1.04.2-1.43.59L10.3 9.45l-7.72 7.72c-.78.78-.78 2.05 0 2.83L4 21.41c.39.39.9.59 1.41.59.51 0 1.02-.2 1.41-.59l7.78-7.78 2.81-2.81c.8-.78.8-2.07 0-2.86zM5.41 20L4 18.59l7.72-7.72 1.47 1.35L5.41 20z\"/>\n",
              "  </svg>\n",
              "      </button>\n",
              "      \n",
              "  <style>\n",
              "    .colab-df-container {\n",
              "      display:flex;\n",
              "      flex-wrap:wrap;\n",
              "      gap: 12px;\n",
              "    }\n",
              "\n",
              "    .colab-df-convert {\n",
              "      background-color: #E8F0FE;\n",
              "      border: none;\n",
              "      border-radius: 50%;\n",
              "      cursor: pointer;\n",
              "      display: none;\n",
              "      fill: #1967D2;\n",
              "      height: 32px;\n",
              "      padding: 0 0 0 0;\n",
              "      width: 32px;\n",
              "    }\n",
              "\n",
              "    .colab-df-convert:hover {\n",
              "      background-color: #E2EBFA;\n",
              "      box-shadow: 0px 1px 2px rgba(60, 64, 67, 0.3), 0px 1px 3px 1px rgba(60, 64, 67, 0.15);\n",
              "      fill: #174EA6;\n",
              "    }\n",
              "\n",
              "    [theme=dark] .colab-df-convert {\n",
              "      background-color: #3B4455;\n",
              "      fill: #D2E3FC;\n",
              "    }\n",
              "\n",
              "    [theme=dark] .colab-df-convert:hover {\n",
              "      background-color: #434B5C;\n",
              "      box-shadow: 0px 1px 3px 1px rgba(0, 0, 0, 0.15);\n",
              "      filter: drop-shadow(0px 1px 2px rgba(0, 0, 0, 0.3));\n",
              "      fill: #FFFFFF;\n",
              "    }\n",
              "  </style>\n",
              "\n",
              "      <script>\n",
              "        const buttonEl =\n",
              "          document.querySelector('#df-01583295-5d05-4d2b-b646-07ac31b2acd0 button.colab-df-convert');\n",
              "        buttonEl.style.display =\n",
              "          google.colab.kernel.accessAllowed ? 'block' : 'none';\n",
              "\n",
              "        async function convertToInteractive(key) {\n",
              "          const element = document.querySelector('#df-01583295-5d05-4d2b-b646-07ac31b2acd0');\n",
              "          const dataTable =\n",
              "            await google.colab.kernel.invokeFunction('convertToInteractive',\n",
              "                                                     [key], {});\n",
              "          if (!dataTable) return;\n",
              "\n",
              "          const docLinkHtml = 'Like what you see? Visit the ' +\n",
              "            '<a target=\"_blank\" href=https://colab.research.google.com/notebooks/data_table.ipynb>data table notebook</a>'\n",
              "            + ' to learn more about interactive tables.';\n",
              "          element.innerHTML = '';\n",
              "          dataTable['output_type'] = 'display_data';\n",
              "          await google.colab.output.renderOutput(dataTable, element);\n",
              "          const docLink = document.createElement('div');\n",
              "          docLink.innerHTML = docLinkHtml;\n",
              "          element.appendChild(docLink);\n",
              "        }\n",
              "      </script>\n",
              "    </div>\n",
              "  </div>\n",
              "  "
            ]
          },
          "metadata": {},
          "execution_count": 43
        }
      ]
    },
    {
      "cell_type": "markdown",
      "source": [
        "##**Data cleaning and processing**"
      ],
      "metadata": {
        "id": "WBQSvko5mi4h"
      }
    },
    {
      "cell_type": "code",
      "source": [
        "# data cleaning and preprocessing\n",
        "import re\n",
        "from nltk.corpus import stopwords\n",
        "from nltk.stem.porter import PorterStemmer\n",
        "# creating object for PorterStemmer\n",
        "ps=PorterStemmer()\n",
        "\n",
        "# Writing method to clean data\n",
        "def data_clean_step1(data_set):\n",
        "  corpus=[]\n",
        "  for i in range(0,len(data_set)):\n",
        "    # Removing all the words other than alphabet\n",
        "    review=re.sub(\"[^a-zA-Z]\",\" \",str(data_set['Text'][i]))\n",
        "\n",
        "    # Converting into lowercase\n",
        "    review=review.lower()\n",
        "\n",
        "    #Splitting review as words\n",
        "    review=review.split()\n",
        "\n",
        "    # Stemming\n",
        "    review = [ps.stem(word) for word in review if not word in stopwords.words('english')]\n",
        "\n",
        "    # Joining words (making sentences with words stem)\n",
        "    review=' '.join(review)\n",
        "\n",
        "    # Making list of reviews\n",
        "    corpus.append(review)\n",
        "      \n",
        "  # replacing processed reviews \n",
        "  for i in range(len(corpus)):\n",
        "    data_set['Text'][i]=corpus[i]\n",
        "\n",
        "  return data_set"
      ],
      "metadata": {
        "id": "bu2jQbtfi8qQ"
      },
      "execution_count": null,
      "outputs": []
    },
    {
      "cell_type": "code",
      "source": [
        "df_1=data_clean_step1(df_1)\n",
        "df_1.head()"
      ],
      "metadata": {
        "colab": {
          "base_uri": "https://localhost:8080/",
          "height": 278
        },
        "id": "AA48hy9ji8tV",
        "outputId": "f2053482-db08-41d0-be44-4af9c3fafdf8"
      },
      "execution_count": null,
      "outputs": [
        {
          "output_type": "stream",
          "name": "stderr",
          "text": [
            "/usr/local/lib/python3.7/dist-packages/ipykernel_launcher.py:32: SettingWithCopyWarning: \n",
            "A value is trying to be set on a copy of a slice from a DataFrame\n",
            "\n",
            "See the caveats in the documentation: https://pandas.pydata.org/pandas-docs/stable/user_guide/indexing.html#returning-a-view-versus-a-copy\n"
          ]
        },
        {
          "output_type": "execute_result",
          "data": {
            "text/plain": [
              "     ID                            Text  Star  Result\n",
              "0  3886                     helpful aap     5       1\n",
              "1  3887                            good     3       1\n",
              "2  3888  abl updat neither abl uninstal     1       0\n",
              "3  3889                        nice app     4       1\n",
              "4  3890                  mani unwant ad     1       0"
            ],
            "text/html": [
              "\n",
              "  <div id=\"df-cdcc9bc3-614a-4922-87cf-7a909a162d62\">\n",
              "    <div class=\"colab-df-container\">\n",
              "      <div>\n",
              "<style scoped>\n",
              "    .dataframe tbody tr th:only-of-type {\n",
              "        vertical-align: middle;\n",
              "    }\n",
              "\n",
              "    .dataframe tbody tr th {\n",
              "        vertical-align: top;\n",
              "    }\n",
              "\n",
              "    .dataframe thead th {\n",
              "        text-align: right;\n",
              "    }\n",
              "</style>\n",
              "<table border=\"1\" class=\"dataframe\">\n",
              "  <thead>\n",
              "    <tr style=\"text-align: right;\">\n",
              "      <th></th>\n",
              "      <th>ID</th>\n",
              "      <th>Text</th>\n",
              "      <th>Star</th>\n",
              "      <th>Result</th>\n",
              "    </tr>\n",
              "  </thead>\n",
              "  <tbody>\n",
              "    <tr>\n",
              "      <th>0</th>\n",
              "      <td>3886</td>\n",
              "      <td>helpful aap</td>\n",
              "      <td>5</td>\n",
              "      <td>1</td>\n",
              "    </tr>\n",
              "    <tr>\n",
              "      <th>1</th>\n",
              "      <td>3887</td>\n",
              "      <td>good</td>\n",
              "      <td>3</td>\n",
              "      <td>1</td>\n",
              "    </tr>\n",
              "    <tr>\n",
              "      <th>2</th>\n",
              "      <td>3888</td>\n",
              "      <td>abl updat neither abl uninstal</td>\n",
              "      <td>1</td>\n",
              "      <td>0</td>\n",
              "    </tr>\n",
              "    <tr>\n",
              "      <th>3</th>\n",
              "      <td>3889</td>\n",
              "      <td>nice app</td>\n",
              "      <td>4</td>\n",
              "      <td>1</td>\n",
              "    </tr>\n",
              "    <tr>\n",
              "      <th>4</th>\n",
              "      <td>3890</td>\n",
              "      <td>mani unwant ad</td>\n",
              "      <td>1</td>\n",
              "      <td>0</td>\n",
              "    </tr>\n",
              "  </tbody>\n",
              "</table>\n",
              "</div>\n",
              "      <button class=\"colab-df-convert\" onclick=\"convertToInteractive('df-cdcc9bc3-614a-4922-87cf-7a909a162d62')\"\n",
              "              title=\"Convert this dataframe to an interactive table.\"\n",
              "              style=\"display:none;\">\n",
              "        \n",
              "  <svg xmlns=\"http://www.w3.org/2000/svg\" height=\"24px\"viewBox=\"0 0 24 24\"\n",
              "       width=\"24px\">\n",
              "    <path d=\"M0 0h24v24H0V0z\" fill=\"none\"/>\n",
              "    <path d=\"M18.56 5.44l.94 2.06.94-2.06 2.06-.94-2.06-.94-.94-2.06-.94 2.06-2.06.94zm-11 1L8.5 8.5l.94-2.06 2.06-.94-2.06-.94L8.5 2.5l-.94 2.06-2.06.94zm10 10l.94 2.06.94-2.06 2.06-.94-2.06-.94-.94-2.06-.94 2.06-2.06.94z\"/><path d=\"M17.41 7.96l-1.37-1.37c-.4-.4-.92-.59-1.43-.59-.52 0-1.04.2-1.43.59L10.3 9.45l-7.72 7.72c-.78.78-.78 2.05 0 2.83L4 21.41c.39.39.9.59 1.41.59.51 0 1.02-.2 1.41-.59l7.78-7.78 2.81-2.81c.8-.78.8-2.07 0-2.86zM5.41 20L4 18.59l7.72-7.72 1.47 1.35L5.41 20z\"/>\n",
              "  </svg>\n",
              "      </button>\n",
              "      \n",
              "  <style>\n",
              "    .colab-df-container {\n",
              "      display:flex;\n",
              "      flex-wrap:wrap;\n",
              "      gap: 12px;\n",
              "    }\n",
              "\n",
              "    .colab-df-convert {\n",
              "      background-color: #E8F0FE;\n",
              "      border: none;\n",
              "      border-radius: 50%;\n",
              "      cursor: pointer;\n",
              "      display: none;\n",
              "      fill: #1967D2;\n",
              "      height: 32px;\n",
              "      padding: 0 0 0 0;\n",
              "      width: 32px;\n",
              "    }\n",
              "\n",
              "    .colab-df-convert:hover {\n",
              "      background-color: #E2EBFA;\n",
              "      box-shadow: 0px 1px 2px rgba(60, 64, 67, 0.3), 0px 1px 3px 1px rgba(60, 64, 67, 0.15);\n",
              "      fill: #174EA6;\n",
              "    }\n",
              "\n",
              "    [theme=dark] .colab-df-convert {\n",
              "      background-color: #3B4455;\n",
              "      fill: #D2E3FC;\n",
              "    }\n",
              "\n",
              "    [theme=dark] .colab-df-convert:hover {\n",
              "      background-color: #434B5C;\n",
              "      box-shadow: 0px 1px 3px 1px rgba(0, 0, 0, 0.15);\n",
              "      filter: drop-shadow(0px 1px 2px rgba(0, 0, 0, 0.3));\n",
              "      fill: #FFFFFF;\n",
              "    }\n",
              "  </style>\n",
              "\n",
              "      <script>\n",
              "        const buttonEl =\n",
              "          document.querySelector('#df-cdcc9bc3-614a-4922-87cf-7a909a162d62 button.colab-df-convert');\n",
              "        buttonEl.style.display =\n",
              "          google.colab.kernel.accessAllowed ? 'block' : 'none';\n",
              "\n",
              "        async function convertToInteractive(key) {\n",
              "          const element = document.querySelector('#df-cdcc9bc3-614a-4922-87cf-7a909a162d62');\n",
              "          const dataTable =\n",
              "            await google.colab.kernel.invokeFunction('convertToInteractive',\n",
              "                                                     [key], {});\n",
              "          if (!dataTable) return;\n",
              "\n",
              "          const docLinkHtml = 'Like what you see? Visit the ' +\n",
              "            '<a target=\"_blank\" href=https://colab.research.google.com/notebooks/data_table.ipynb>data table notebook</a>'\n",
              "            + ' to learn more about interactive tables.';\n",
              "          element.innerHTML = '';\n",
              "          dataTable['output_type'] = 'display_data';\n",
              "          await google.colab.output.renderOutput(dataTable, element);\n",
              "          const docLink = document.createElement('div');\n",
              "          docLink.innerHTML = docLinkHtml;\n",
              "          element.appendChild(docLink);\n",
              "        }\n",
              "      </script>\n",
              "    </div>\n",
              "  </div>\n",
              "  "
            ]
          },
          "metadata": {},
          "execution_count": 45
        }
      ]
    },
    {
      "cell_type": "markdown",
      "source": [
        "###**removing the NAN values**"
      ],
      "metadata": {
        "id": "YdLswGbJnJtO"
      }
    },
    {
      "cell_type": "code",
      "source": [
        "def data_clean_step2():\n",
        "  global data_use\n",
        "  # Removing empty string or ' ' in 'Text' after stemming if any.\n",
        "  nan_value = float(\"NaN\")\n",
        "  df_1.replace(\"\", nan_value, inplace=True)\n",
        "  df_1=df_1.dropna()\n",
        "\n",
        "  # Resetting the index\n",
        "  df_1.reset_index(inplace=True)\n",
        "  corpus=list(df_1['Text'])"
      ],
      "metadata": {
        "id": "0LiE_j8Qi8wt"
      },
      "execution_count": null,
      "outputs": []
    },
    {
      "cell_type": "code",
      "source": [
        "X=df_1['Text'].values\n",
        "y=df_1['Result'].values\n",
        "\n",
        "# Splitting the dataset into train set and test set\n",
        "from sklearn.model_selection import train_test_split\n",
        "X_train, X_test, y_train, y_test = train_test_split(X, y, test_size = 0.20, random_state = 0)"
      ],
      "metadata": {
        "id": "hOzK9GZ-i8zt"
      },
      "execution_count": null,
      "outputs": []
    },
    {
      "cell_type": "code",
      "source": [
        "# creating lists to store models, best_scores and best_parameters\n",
        "\n",
        "models,model_names,best_scores,best_params,test_score=[],[],[],[],[]"
      ],
      "metadata": {
        "id": "dw1IaaXOi83A"
      },
      "execution_count": null,
      "outputs": []
    },
    {
      "cell_type": "markdown",
      "source": [
        "###**Creating MultinomialNB model**"
      ],
      "metadata": {
        "id": "4dpCk70AoJOL"
      }
    },
    {
      "cell_type": "code",
      "source": [
        "from sklearn.metrics import accuracy_score,precision_score,recall_score,classification_report,confusion_matrix\n",
        "from sklearn.linear_model import LogisticRegression"
      ],
      "metadata": {
        "id": "3r7UbNPlo6fL"
      },
      "execution_count": null,
      "outputs": []
    },
    {
      "cell_type": "code",
      "source": [
        "from sklearn.pipeline import Pipeline\n",
        "from sklearn.model_selection import GridSearchCV\n",
        "from sklearn.feature_extraction.text import TfidfVectorizer, CountVectorizer, TfidfTransformer\n",
        "\n",
        "# Creating MultinomialNB model\n",
        "from sklearn.naive_bayes import MultinomialNB\n",
        "text_clf_NB = Pipeline([('vect', CountVectorizer()),('tfidf', TfidfTransformer()),('clfNB', MultinomialNB())])\n",
        "\n",
        "parameters_NB = {'vect__ngram_range': [(1, 1), (1, 2),(1,3)],'tfidf__use_idf': (True, False),'clfNB__alpha': [0.01,0.1,0.15,0.2,0.3,0.4,0.5,0.6,0.7,0.8,0.9]}\n",
        "\n",
        "MultinomialNB_classifier = GridSearchCV(text_clf_NB, parameters_NB, n_jobs=-1)\n",
        "MultinomialNB_classifier = MultinomialNB_classifier.fit(X_train,y_train)\n",
        "\n",
        "NB_model=MultinomialNB_classifier.best_estimator_\n",
        "y_pred=NB_model.predict(X_test)\n",
        "\n",
        "model_names.append('MultinomialNB')\n",
        "models.append(MultinomialNB_classifier)\n",
        "best_params.append(MultinomialNB_classifier.best_params_)\n",
        "best_scores.append(MultinomialNB_classifier.best_score_)\n",
        "test_score.append(accuracy_score(y_test,y_pred))\n",
        "\n",
        "print(\"Test Accuracy score : \",accuracy_score(y_test,y_pred))\n",
        "print(MultinomialNB_classifier.best_score_)\n",
        "print(MultinomialNB_classifier.best_params_)"
      ],
      "metadata": {
        "colab": {
          "base_uri": "https://localhost:8080/"
        },
        "id": "B4GSqECQi86Z",
        "outputId": "11d95fc9-4e01-4b74-d966-e9860efc0585"
      },
      "execution_count": null,
      "outputs": [
        {
          "output_type": "stream",
          "name": "stdout",
          "text": [
            "Test Accuracy score :  0.8501040943789036\n",
            "0.8394916341428157\n",
            "{'clfNB__alpha': 0.1, 'tfidf__use_idf': False, 'vect__ngram_range': (1, 2)}\n"
          ]
        }
      ]
    },
    {
      "cell_type": "code",
      "source": [
        "# Creating model for Logisticregression\n",
        "text_clf_Log = Pipeline([('vect', CountVectorizer()),('tfidf', TfidfTransformer()),('clfLog', LogisticRegression())])\n",
        "parameters_Log = {'vect__ngram_range': [(1, 1), (1, 2),(1,3)],'tfidf__use_idf': (True, False),\n",
        "                  'clfLog__penalty':['l1','l2','elasticnet','none'],'clfLog__C':[1.0,1.5,2.0],\n",
        "                  'clfLog__solver':['newton-cg', 'lbfgs', 'liblinear', 'sag', 'saga'],\n",
        "                  'clfLog__multi_class':['ovr']}\n",
        "LogisticRegression_classifier = GridSearchCV(text_clf_Log, parameters_Log, n_jobs=-1)\n",
        "LogisticRegression_classifier = LogisticRegression_classifier.fit(X_train,y_train)\n",
        "\n",
        "Logistic_model=LogisticRegression_classifier.best_estimator_\n",
        "y_pred=Logistic_model.predict(X_test)\n",
        "\n",
        "model_names.append('LogisticRegression')\n",
        "models.append(LogisticRegression_classifier)\n",
        "best_params.append(LogisticRegression_classifier.best_params_)\n",
        "best_scores.append(LogisticRegression_classifier.best_score_)\n",
        "test_score.append(accuracy_score(y_test,y_pred))\n",
        "\n",
        "print(\"Test accuracy score : \",accuracy_score(y_test,y_pred)) \n",
        "print(LogisticRegression_classifier.best_score_)\n",
        "print(LogisticRegression_classifier.best_params_)"
      ],
      "metadata": {
        "colab": {
          "base_uri": "https://localhost:8080/"
        },
        "id": "ZwH-tGJ7i89Q",
        "outputId": "719afa9c-d741-4a64-8283-2443686d37e5"
      },
      "execution_count": null,
      "outputs": [
        {
          "output_type": "stream",
          "name": "stderr",
          "text": [
            "/usr/local/lib/python3.7/dist-packages/sklearn/model_selection/_validation.py:372: FitFailedWarning: \n",
            "810 fits failed out of a total of 1800.\n",
            "The score on these train-test partitions for these parameters will be set to nan.\n",
            "If these failures are not expected, you can try to debug them by setting error_score='raise'.\n",
            "\n",
            "Below are more details about the failures:\n",
            "--------------------------------------------------------------------------------\n",
            "90 fits failed with the following error:\n",
            "Traceback (most recent call last):\n",
            "  File \"/usr/local/lib/python3.7/dist-packages/sklearn/model_selection/_validation.py\", line 680, in _fit_and_score\n",
            "    estimator.fit(X_train, y_train, **fit_params)\n",
            "  File \"/usr/local/lib/python3.7/dist-packages/sklearn/pipeline.py\", line 394, in fit\n",
            "    self._final_estimator.fit(Xt, y, **fit_params_last_step)\n",
            "  File \"/usr/local/lib/python3.7/dist-packages/sklearn/linear_model/_logistic.py\", line 1461, in fit\n",
            "    solver = _check_solver(self.solver, self.penalty, self.dual)\n",
            "  File \"/usr/local/lib/python3.7/dist-packages/sklearn/linear_model/_logistic.py\", line 449, in _check_solver\n",
            "    % (solver, penalty)\n",
            "ValueError: Solver newton-cg supports only 'l2' or 'none' penalties, got l1 penalty.\n",
            "\n",
            "--------------------------------------------------------------------------------\n",
            "90 fits failed with the following error:\n",
            "Traceback (most recent call last):\n",
            "  File \"/usr/local/lib/python3.7/dist-packages/sklearn/model_selection/_validation.py\", line 680, in _fit_and_score\n",
            "    estimator.fit(X_train, y_train, **fit_params)\n",
            "  File \"/usr/local/lib/python3.7/dist-packages/sklearn/pipeline.py\", line 394, in fit\n",
            "    self._final_estimator.fit(Xt, y, **fit_params_last_step)\n",
            "  File \"/usr/local/lib/python3.7/dist-packages/sklearn/linear_model/_logistic.py\", line 1461, in fit\n",
            "    solver = _check_solver(self.solver, self.penalty, self.dual)\n",
            "  File \"/usr/local/lib/python3.7/dist-packages/sklearn/linear_model/_logistic.py\", line 449, in _check_solver\n",
            "    % (solver, penalty)\n",
            "ValueError: Solver lbfgs supports only 'l2' or 'none' penalties, got l1 penalty.\n",
            "\n",
            "--------------------------------------------------------------------------------\n",
            "90 fits failed with the following error:\n",
            "Traceback (most recent call last):\n",
            "  File \"/usr/local/lib/python3.7/dist-packages/sklearn/model_selection/_validation.py\", line 680, in _fit_and_score\n",
            "    estimator.fit(X_train, y_train, **fit_params)\n",
            "  File \"/usr/local/lib/python3.7/dist-packages/sklearn/pipeline.py\", line 394, in fit\n",
            "    self._final_estimator.fit(Xt, y, **fit_params_last_step)\n",
            "  File \"/usr/local/lib/python3.7/dist-packages/sklearn/linear_model/_logistic.py\", line 1461, in fit\n",
            "    solver = _check_solver(self.solver, self.penalty, self.dual)\n",
            "  File \"/usr/local/lib/python3.7/dist-packages/sklearn/linear_model/_logistic.py\", line 449, in _check_solver\n",
            "    % (solver, penalty)\n",
            "ValueError: Solver sag supports only 'l2' or 'none' penalties, got l1 penalty.\n",
            "\n",
            "--------------------------------------------------------------------------------\n",
            "90 fits failed with the following error:\n",
            "Traceback (most recent call last):\n",
            "  File \"/usr/local/lib/python3.7/dist-packages/sklearn/model_selection/_validation.py\", line 680, in _fit_and_score\n",
            "    estimator.fit(X_train, y_train, **fit_params)\n",
            "  File \"/usr/local/lib/python3.7/dist-packages/sklearn/pipeline.py\", line 394, in fit\n",
            "    self._final_estimator.fit(Xt, y, **fit_params_last_step)\n",
            "  File \"/usr/local/lib/python3.7/dist-packages/sklearn/linear_model/_logistic.py\", line 1461, in fit\n",
            "    solver = _check_solver(self.solver, self.penalty, self.dual)\n",
            "  File \"/usr/local/lib/python3.7/dist-packages/sklearn/linear_model/_logistic.py\", line 449, in _check_solver\n",
            "    % (solver, penalty)\n",
            "ValueError: Solver newton-cg supports only 'l2' or 'none' penalties, got elasticnet penalty.\n",
            "\n",
            "--------------------------------------------------------------------------------\n",
            "90 fits failed with the following error:\n",
            "Traceback (most recent call last):\n",
            "  File \"/usr/local/lib/python3.7/dist-packages/sklearn/model_selection/_validation.py\", line 680, in _fit_and_score\n",
            "    estimator.fit(X_train, y_train, **fit_params)\n",
            "  File \"/usr/local/lib/python3.7/dist-packages/sklearn/pipeline.py\", line 394, in fit\n",
            "    self._final_estimator.fit(Xt, y, **fit_params_last_step)\n",
            "  File \"/usr/local/lib/python3.7/dist-packages/sklearn/linear_model/_logistic.py\", line 1461, in fit\n",
            "    solver = _check_solver(self.solver, self.penalty, self.dual)\n",
            "  File \"/usr/local/lib/python3.7/dist-packages/sklearn/linear_model/_logistic.py\", line 449, in _check_solver\n",
            "    % (solver, penalty)\n",
            "ValueError: Solver lbfgs supports only 'l2' or 'none' penalties, got elasticnet penalty.\n",
            "\n",
            "--------------------------------------------------------------------------------\n",
            "90 fits failed with the following error:\n",
            "Traceback (most recent call last):\n",
            "  File \"/usr/local/lib/python3.7/dist-packages/sklearn/model_selection/_validation.py\", line 680, in _fit_and_score\n",
            "    estimator.fit(X_train, y_train, **fit_params)\n",
            "  File \"/usr/local/lib/python3.7/dist-packages/sklearn/pipeline.py\", line 394, in fit\n",
            "    self._final_estimator.fit(Xt, y, **fit_params_last_step)\n",
            "  File \"/usr/local/lib/python3.7/dist-packages/sklearn/linear_model/_logistic.py\", line 1461, in fit\n",
            "    solver = _check_solver(self.solver, self.penalty, self.dual)\n",
            "  File \"/usr/local/lib/python3.7/dist-packages/sklearn/linear_model/_logistic.py\", line 459, in _check_solver\n",
            "    solver\n",
            "ValueError: Only 'saga' solver supports elasticnet penalty, got solver=liblinear.\n",
            "\n",
            "--------------------------------------------------------------------------------\n",
            "90 fits failed with the following error:\n",
            "Traceback (most recent call last):\n",
            "  File \"/usr/local/lib/python3.7/dist-packages/sklearn/model_selection/_validation.py\", line 680, in _fit_and_score\n",
            "    estimator.fit(X_train, y_train, **fit_params)\n",
            "  File \"/usr/local/lib/python3.7/dist-packages/sklearn/pipeline.py\", line 394, in fit\n",
            "    self._final_estimator.fit(Xt, y, **fit_params_last_step)\n",
            "  File \"/usr/local/lib/python3.7/dist-packages/sklearn/linear_model/_logistic.py\", line 1461, in fit\n",
            "    solver = _check_solver(self.solver, self.penalty, self.dual)\n",
            "  File \"/usr/local/lib/python3.7/dist-packages/sklearn/linear_model/_logistic.py\", line 449, in _check_solver\n",
            "    % (solver, penalty)\n",
            "ValueError: Solver sag supports only 'l2' or 'none' penalties, got elasticnet penalty.\n",
            "\n",
            "--------------------------------------------------------------------------------\n",
            "90 fits failed with the following error:\n",
            "Traceback (most recent call last):\n",
            "  File \"/usr/local/lib/python3.7/dist-packages/sklearn/model_selection/_validation.py\", line 680, in _fit_and_score\n",
            "    estimator.fit(X_train, y_train, **fit_params)\n",
            "  File \"/usr/local/lib/python3.7/dist-packages/sklearn/pipeline.py\", line 394, in fit\n",
            "    self._final_estimator.fit(Xt, y, **fit_params_last_step)\n",
            "  File \"/usr/local/lib/python3.7/dist-packages/sklearn/linear_model/_logistic.py\", line 1473, in fit\n",
            "    % self.l1_ratio\n",
            "ValueError: l1_ratio must be between 0 and 1; got (l1_ratio=None)\n",
            "\n",
            "--------------------------------------------------------------------------------\n",
            "90 fits failed with the following error:\n",
            "Traceback (most recent call last):\n",
            "  File \"/usr/local/lib/python3.7/dist-packages/sklearn/model_selection/_validation.py\", line 680, in _fit_and_score\n",
            "    estimator.fit(X_train, y_train, **fit_params)\n",
            "  File \"/usr/local/lib/python3.7/dist-packages/sklearn/pipeline.py\", line 394, in fit\n",
            "    self._final_estimator.fit(Xt, y, **fit_params_last_step)\n",
            "  File \"/usr/local/lib/python3.7/dist-packages/sklearn/linear_model/_logistic.py\", line 1461, in fit\n",
            "    solver = _check_solver(self.solver, self.penalty, self.dual)\n",
            "  File \"/usr/local/lib/python3.7/dist-packages/sklearn/linear_model/_logistic.py\", line 464, in _check_solver\n",
            "    raise ValueError(\"penalty='none' is not supported for the liblinear solver\")\n",
            "ValueError: penalty='none' is not supported for the liblinear solver\n",
            "\n",
            "  warnings.warn(some_fits_failed_message, FitFailedWarning)\n",
            "/usr/local/lib/python3.7/dist-packages/sklearn/model_selection/_search.py:972: UserWarning: One or more of the test scores are non-finite: [       nan        nan        nan        nan        nan        nan\n",
            "        nan        nan        nan        nan        nan        nan\n",
            " 0.82161872 0.82057781 0.82005833 0.82994814 0.83081575 0.83203148\n",
            "        nan        nan        nan        nan        nan        nan\n",
            " 0.82161872 0.82057781 0.82005833 0.82994814 0.83081575 0.83203148\n",
            " 0.82994814 0.82838624 0.82994679 0.83602032 0.83636799 0.83688792\n",
            " 0.82994814 0.82838624 0.82994679 0.83602032 0.83636799 0.83688792\n",
            " 0.83012175 0.82855971 0.82994679 0.83602047 0.8365416  0.83671446\n",
            " 0.82994814 0.82838624 0.82994679 0.83602032 0.83636799 0.83688792\n",
            " 0.83046883 0.82873317 0.83029386 0.83602047 0.8365416  0.83688807\n",
            "        nan        nan        nan        nan        nan        nan\n",
            "        nan        nan        nan        nan        nan        nan\n",
            "        nan        nan        nan        nan        nan        nan\n",
            "        nan        nan        nan        nan        nan        nan\n",
            "        nan        nan        nan        nan        nan        nan\n",
            " 0.80374416 0.81172696 0.82179188 0.80270279 0.81224674 0.82075037\n",
            " 0.81086026 0.81519993 0.81971051 0.81381029 0.81762853 0.81814801\n",
            "        nan        nan        nan        nan        nan        nan\n",
            " 0.81727995 0.82509004 0.82665134 0.82022968 0.82613156 0.82821233\n",
            " 0.82196534 0.82578434 0.8276924  0.82595629 0.82734578 0.82855955\n",
            "        nan        nan        nan        nan        nan        nan\n",
            "        nan        nan        nan        nan        nan        nan\n",
            " 0.82561103 0.82699871 0.82561027 0.83515377 0.83359247 0.83428722\n",
            "        nan        nan        nan        nan        nan        nan\n",
            " 0.82543742 0.82682525 0.82561027 0.83515377 0.83376593 0.83428722\n",
            " 0.83307149 0.83203072 0.83393849 0.83758191 0.83810365 0.83897065\n",
            " 0.83324495 0.83185726 0.83393849 0.83775552 0.83810365 0.83897065\n",
            " 0.83307149 0.83185726 0.83393849 0.83775552 0.83827726 0.83897065\n",
            " 0.83307149 0.83203072 0.83393849 0.83758191 0.83810365 0.83897065\n",
            " 0.83307149 0.83185726 0.83376503 0.83810259 0.83793019 0.83897065\n",
            "        nan        nan        nan        nan        nan        nan\n",
            "        nan        nan        nan        nan        nan        nan\n",
            "        nan        nan        nan        nan        nan        nan\n",
            "        nan        nan        nan        nan        nan        nan\n",
            "        nan        nan        nan        nan        nan        nan\n",
            " 0.80374416 0.81172696 0.82179188 0.80270279 0.81224674 0.82075037\n",
            " 0.81086026 0.81519993 0.81971051 0.81381029 0.81762853 0.81814801\n",
            "        nan        nan        nan        nan        nan        nan\n",
            " 0.8172792  0.82526335 0.82613081 0.8212706  0.82422289 0.82751849\n",
            " 0.82179143 0.82613111 0.82751894 0.82595659 0.82699931 0.82890678\n",
            "        nan        nan        nan        nan        nan        nan\n",
            "        nan        nan        nan        nan        nan        nan\n",
            " 0.8283876  0.82751969 0.82925445 0.83550039 0.83498046 0.83393939\n",
            "        nan        nan        nan        nan        nan        nan\n",
            " 0.82838775 0.82751969 0.82942776 0.835674   0.83515392 0.83393939\n",
            " 0.83445977 0.83272472 0.8341118  0.83706153 0.8389714  0.83914441\n",
            " 0.83445977 0.83272472 0.8341118  0.83706153 0.8389714  0.83914441\n",
            " 0.83428631 0.83289833 0.8341118  0.83706153 0.8389714  0.8389708\n",
            " 0.83445977 0.83272472 0.8341118  0.83706153 0.8389714  0.83914441\n",
            " 0.83445992 0.83272502 0.8341118  0.83671446 0.83879794 0.8389708\n",
            "        nan        nan        nan        nan        nan        nan\n",
            "        nan        nan        nan        nan        nan        nan\n",
            "        nan        nan        nan        nan        nan        nan\n",
            "        nan        nan        nan        nan        nan        nan\n",
            "        nan        nan        nan        nan        nan        nan\n",
            " 0.80374416 0.81172696 0.82179188 0.80270279 0.81224674 0.82075037\n",
            " 0.81086026 0.81519993 0.81971051 0.81381029 0.81762853 0.81814801\n",
            "        nan        nan        nan        nan        nan        nan\n",
            " 0.81780063 0.82630381 0.82630472 0.82057661 0.82509049 0.82803917\n",
            " 0.82057646 0.82734548 0.82786601 0.82578268 0.82769331 0.82890708]\n",
            "  category=UserWarning,\n"
          ]
        },
        {
          "output_type": "stream",
          "name": "stdout",
          "text": [
            "Test accuracy score :  0.8452463566967384\n",
            "0.8391444119205935\n",
            "{'clfLog__C': 2.0, 'clfLog__multi_class': 'ovr', 'clfLog__penalty': 'l2', 'clfLog__solver': 'newton-cg', 'tfidf__use_idf': False, 'vect__ngram_range': (1, 3)}\n"
          ]
        }
      ]
    },
    {
      "cell_type": "code",
      "source": [
        "# Creating model for SGDClassifier\n",
        "from sklearn.linear_model import SGDClassifier\n",
        "text_clf_SGD = Pipeline([('vect', CountVectorizer()),('tfidf', TfidfTransformer()),('clfSGD', SGDClassifier())])\n",
        "\n",
        "parameters_SGD = {'vect__ngram_range': [(1, 1), (1, 2),(1,3),(1,4)],'tfidf__use_idf': (True, False),'clfSGD__loss':['hinge', 'log', 'modified_huber', 'squared_hinge', 'perceptron'],\n",
        "                 'clfSGD__penalty':['l2', 'l1', 'elasticnet'],'clfSGD__alpha':[0.0001,0.001,0.01,0.1,0.2,0.3,0.4,0.5]}\n",
        "\n",
        "SGD_classifier = GridSearchCV(text_clf_SGD, parameters_SGD, n_jobs=-1)\n",
        "SGD_classifier = SGD_classifier.fit(X_train,y_train)\n",
        "\n",
        "SGD_model=SGD_classifier.best_estimator_\n",
        "y_pred=SGD_model.predict(X_test)\n",
        "\n",
        "model_names.append('SGDClassifier')\n",
        "models.append(SGD_classifier)\n",
        "best_params.append(SGD_classifier.best_params_)\n",
        "best_scores.append(SGD_classifier.best_score_)\n",
        "test_score.append(accuracy_score(y_test,y_pred))\n",
        "\n",
        "print(\"Test accuracy score : \",accuracy_score(y_test,y_pred))\n",
        "print(SGD_classifier.best_score_)\n",
        "print(SGD_classifier.best_params_)"
      ],
      "metadata": {
        "colab": {
          "base_uri": "https://localhost:8080/"
        },
        "id": "rmn6EgEbi9Ad",
        "outputId": "b8b9dd90-eaf0-4d65-a9f1-4dff7c973e41"
      },
      "execution_count": null,
      "outputs": [
        {
          "output_type": "stream",
          "name": "stdout",
          "text": [
            "Test accuracy score :  0.8445523941707148\n",
            "0.8398387057916545\n",
            "{'clfSGD__alpha': 0.0001, 'clfSGD__loss': 'log', 'clfSGD__penalty': 'l2', 'tfidf__use_idf': False, 'vect__ngram_range': (1, 3)}\n"
          ]
        }
      ]
    },
    {
      "cell_type": "code",
      "source": [
        "# Creating model for SGDClassifier\n",
        "from sklearn.svm import SVC\n",
        "text_clf_SVC = Pipeline([('vect', CountVectorizer()),('tfidf', TfidfTransformer()),('clfSVC', SVC())])\n",
        "\n",
        "parameters_svc = {'vect__ngram_range': [(1, 1), (1, 2),(1,3),(1,4)],'tfidf__use_idf': (True, False),'clfSVC__C':[0.01,0.1,1,2],\n",
        "                 'clfSVC__kernel':['linear', 'poly', 'rbf', 'sigmoid', 'precomputed'],'clfSVC__degree':[1,2,3,4],\n",
        "                 'clfSVC__gamma':['scale','auto']}\n",
        "\n",
        "SVC_classifier = GridSearchCV(text_clf_SVC, parameters_svc, n_jobs=-1)\n",
        "SVC_classifier = SVC_classifier.fit(X_train,y_train)\n",
        "\n",
        "SVC_model=SVC_classifier.best_estimator_\n",
        "y_pred=SVC_model.predict(X_test)\n",
        "\n",
        "model_names.append('SVC_Classifier')\n",
        "models.append(SVC_classifier)\n",
        "best_params.append(SVC_classifier.best_params_)\n",
        "best_scores.append(SVC_classifier.best_score_)\n",
        "test_score.append(accuracy_score(y_test,y_pred))\n",
        "\n",
        "print(\"Test accuracy score : \",accuracy_score(y_test,y_pred))\n",
        "print(SVC_classifier.best_score_)\n",
        "print(SVC_classifier.best_params_)"
      ],
      "metadata": {
        "colab": {
          "base_uri": "https://localhost:8080/"
        },
        "id": "5ZjN1-SQi9DQ",
        "outputId": "883c5707-a4e2-4cbb-cd88-5628f3bd3d89"
      },
      "execution_count": null,
      "outputs": [
        {
          "output_type": "stream",
          "name": "stderr",
          "text": [
            "/usr/local/lib/python3.7/dist-packages/sklearn/model_selection/_validation.py:372: FitFailedWarning: \n",
            "1280 fits failed out of a total of 6400.\n",
            "The score on these train-test partitions for these parameters will be set to nan.\n",
            "If these failures are not expected, you can try to debug them by setting error_score='raise'.\n",
            "\n",
            "Below are more details about the failures:\n",
            "--------------------------------------------------------------------------------\n",
            "1280 fits failed with the following error:\n",
            "Traceback (most recent call last):\n",
            "  File \"/usr/local/lib/python3.7/dist-packages/sklearn/model_selection/_validation.py\", line 680, in _fit_and_score\n",
            "    estimator.fit(X_train, y_train, **fit_params)\n",
            "  File \"/usr/local/lib/python3.7/dist-packages/sklearn/pipeline.py\", line 394, in fit\n",
            "    self._final_estimator.fit(Xt, y, **fit_params_last_step)\n",
            "  File \"/usr/local/lib/python3.7/dist-packages/sklearn/svm/_base.py\", line 177, in fit\n",
            "    raise TypeError(\"Sparse precomputed kernels are not supported.\")\n",
            "TypeError: Sparse precomputed kernels are not supported.\n",
            "\n",
            "  warnings.warn(some_fits_failed_message, FitFailedWarning)\n",
            "/usr/local/lib/python3.7/dist-packages/sklearn/model_selection/_search.py:972: UserWarning: One or more of the test scores are non-finite: [0.74718097 0.74180188 0.73781018 ...        nan        nan        nan]\n",
            "  category=UserWarning,\n"
          ]
        },
        {
          "output_type": "stream",
          "name": "stdout",
          "text": [
            "Test accuracy score :  0.8480222068008327\n",
            "0.8396638900934759\n",
            "{'clfSVC__C': 1, 'clfSVC__degree': 1, 'clfSVC__gamma': 'scale', 'clfSVC__kernel': 'poly', 'tfidf__use_idf': False, 'vect__ngram_range': (1, 4)}\n"
          ]
        }
      ]
    },
    {
      "cell_type": "code",
      "source": [
        "# Creating model for RandomForestClassifier\n",
        "from sklearn.ensemble import RandomForestClassifier\n",
        "\n",
        "text_clf_RFC = Pipeline([('vect', CountVectorizer()),('tfidf', TfidfTransformer()),('clfRFC', RandomForestClassifier())])\n",
        "\n",
        "parameters_RFC = {'vect__ngram_range': [(1, 1), (1, 2),(1,3),(1,4)],'tfidf__use_idf': (True, False),\n",
        "                 'clfRFC__n_estimators':[10,25,50,100],'clfRFC__criterion':['gini','entropy'],\n",
        "                 'clfRFC__max_depth':[2,4,5,10],'clfRFC__min_samples_leaf':[2,5,10,25,50],\n",
        "                  'clfRFC__max_features':['auto','sqrt','log2']\n",
        "                  }\n",
        "\n",
        "RandomForest_Classifier = GridSearchCV(text_clf_RFC, parameters_RFC, n_jobs=-1)\n",
        "RandomForest_Classifier = RandomForest_Classifier.fit(X_train,y_train)\n",
        "\n",
        "RFC_model=RandomForest_Classifier.best_estimator_\n",
        "y_pred=RFC_model.predict(X_test)\n",
        "\n",
        "model_names.append('Random_Forest_Classifier')\n",
        "models.append(RandomForest_Classifier)\n",
        "best_params.append(RandomForest_Classifier.best_params_)\n",
        "best_scores.append(RandomForest_Classifier.best_score_)\n",
        "test_score.append(accuracy_score(y_test,y_pred))\n",
        "\n",
        "print(\"Test accuracy score : \",accuracy_score(y_test,y_pred))\n",
        "print(RandomForest_Classifier.best_score_)\n",
        "print(RandomForest_Classifier.best_params_)"
      ],
      "metadata": {
        "colab": {
          "base_uri": "https://localhost:8080/"
        },
        "id": "Ze3iIww-i9Ir",
        "outputId": "1eb3372c-20c5-4049-f705-991052e46f91"
      },
      "execution_count": null,
      "outputs": [
        {
          "output_type": "stream",
          "name": "stdout",
          "text": [
            "Test accuracy score :  0.7536433032616239\n",
            "0.7544736857955093\n",
            "{'clfRFC__criterion': 'gini', 'clfRFC__max_depth': 10, 'clfRFC__max_features': 'auto', 'clfRFC__min_samples_leaf': 2, 'clfRFC__n_estimators': 10, 'tfidf__use_idf': True, 'vect__ngram_range': (1, 1)}\n"
          ]
        }
      ]
    },
    {
      "cell_type": "code",
      "source": [
        "for i in range(len(test_score)):\n",
        "  print(model_names[i])\n",
        "  print(best_scores[i])\n",
        "  print(best_params[i])\n",
        "  print('Test accuracy :',test_score[i])\n",
        "  print('----------------------------------------------------------------------------------------')"
      ],
      "metadata": {
        "colab": {
          "base_uri": "https://localhost:8080/"
        },
        "id": "eOtNXkcBi9MD",
        "outputId": "9d90e923-5a21-44b6-b9ca-1f3ee1e6e9c0"
      },
      "execution_count": null,
      "outputs": [
        {
          "output_type": "stream",
          "name": "stdout",
          "text": [
            "MultinomialNB\n",
            "0.8394916341428157\n",
            "{'clfNB__alpha': 0.1, 'tfidf__use_idf': False, 'vect__ngram_range': (1, 2)}\n",
            "Test accuracy : 0.8501040943789036\n",
            "----------------------------------------------------------------------------------------\n",
            "LogisticRegression\n",
            "0.8391444119205935\n",
            "{'clfLog__C': 2.0, 'clfLog__multi_class': 'ovr', 'clfLog__penalty': 'l2', 'clfLog__solver': 'newton-cg', 'tfidf__use_idf': False, 'vect__ngram_range': (1, 3)}\n",
            "Test accuracy : 0.8452463566967384\n",
            "----------------------------------------------------------------------------------------\n",
            "SGDClassifier\n",
            "0.8396649441071601\n",
            "{'clfSGD__alpha': 0.0001, 'clfSGD__loss': 'log', 'clfSGD__penalty': 'l2', 'tfidf__use_idf': False, 'vect__ngram_range': (1, 3)}\n",
            "Test accuracy : 0.8459403192227619\n",
            "----------------------------------------------------------------------------------------\n",
            "SGDClassifier\n",
            "0.8398387057916545\n",
            "{'clfSGD__alpha': 0.0001, 'clfSGD__loss': 'log', 'clfSGD__penalty': 'l2', 'tfidf__use_idf': False, 'vect__ngram_range': (1, 3)}\n",
            "Test accuracy : 0.8445523941707148\n",
            "----------------------------------------------------------------------------------------\n",
            "SVC_Classifier\n",
            "0.8396638900934759\n",
            "{'clfSVC__C': 1, 'clfSVC__degree': 1, 'clfSVC__gamma': 'scale', 'clfSVC__kernel': 'poly', 'tfidf__use_idf': False, 'vect__ngram_range': (1, 4)}\n",
            "Test accuracy : 0.8480222068008327\n",
            "----------------------------------------------------------------------------------------\n",
            "Random_Forest_Classifier\n",
            "0.7544736857955093\n",
            "{'clfRFC__criterion': 'gini', 'clfRFC__max_depth': 10, 'clfRFC__max_features': 'auto', 'clfRFC__min_samples_leaf': 2, 'clfRFC__n_estimators': 10, 'tfidf__use_idf': True, 'vect__ngram_range': (1, 1)}\n",
            "Test accuracy : 0.7536433032616239\n",
            "----------------------------------------------------------------------------------------\n"
          ]
        }
      ]
    },
    {
      "cell_type": "code",
      "source": [
        ""
      ],
      "metadata": {
        "id": "hzmDWqaygWl-"
      },
      "execution_count": null,
      "outputs": []
    },
    {
      "cell_type": "code",
      "source": [
        "import sklearn.externals\n",
        "import joblib\n",
        "for i in range(len(model_names)):\n",
        "  if model_names[i]=='LogisticRegression':\n",
        "    model=models[i]\n",
        "joblib.dump(model,'Review_model.mod')"
      ],
      "metadata": {
        "colab": {
          "base_uri": "https://localhost:8080/"
        },
        "id": "Hg4siNOWi9SU",
        "outputId": "5e9d8d3e-f12f-40e1-83d3-0d1ea99c1bff"
      },
      "execution_count": null,
      "outputs": [
        {
          "output_type": "execute_result",
          "data": {
            "text/plain": [
              "['Review_model.mod']"
            ]
          },
          "metadata": {},
          "execution_count": 57
        }
      ]
    },
    {
      "cell_type": "code",
      "source": [
        ""
      ],
      "metadata": {
        "id": "QJLpqLvEi9Vp"
      },
      "execution_count": null,
      "outputs": []
    },
    {
      "cell_type": "code",
      "source": [
        ""
      ],
      "metadata": {
        "id": "7ifeN5nEi9Yl"
      },
      "execution_count": null,
      "outputs": []
    },
    {
      "cell_type": "code",
      "source": [
        ""
      ],
      "metadata": {
        "id": "DAHaB--Fi9bZ"
      },
      "execution_count": null,
      "outputs": []
    },
    {
      "cell_type": "code",
      "source": [
        ""
      ],
      "metadata": {
        "id": "oqtWviW9i9em"
      },
      "execution_count": null,
      "outputs": []
    },
    {
      "cell_type": "code",
      "source": [
        ""
      ],
      "metadata": {
        "id": "NDkrjesRi9nb"
      },
      "execution_count": null,
      "outputs": []
    },
    {
      "cell_type": "code",
      "source": [
        ""
      ],
      "metadata": {
        "id": "mpQf_q_si9qZ"
      },
      "execution_count": null,
      "outputs": []
    },
    {
      "cell_type": "code",
      "source": [
        ""
      ],
      "metadata": {
        "id": "9Ji55gJTi9tX"
      },
      "execution_count": null,
      "outputs": []
    },
    {
      "cell_type": "code",
      "source": [
        ""
      ],
      "metadata": {
        "id": "Q7D02psbi9vk"
      },
      "execution_count": null,
      "outputs": []
    },
    {
      "cell_type": "code",
      "source": [
        ""
      ],
      "metadata": {
        "id": "JjFe9W-Ji9yV"
      },
      "execution_count": null,
      "outputs": []
    }
  ]
}